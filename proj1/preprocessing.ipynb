{
 "cells": [
  {
   "cell_type": "code",
   "execution_count": null,
   "metadata": {},
   "outputs": [],
   "source": [
    "import pandas as pd\n",
    "import numpy as np\n",
    "import matplotlib.pyplot as plt\n",
    "\n",
    "%matplotlib inline"
   ]
  },
  {
   "cell_type": "code",
   "execution_count": null,
   "metadata": {},
   "outputs": [],
   "source": [
    "df = pd.read_csv('bulk.csv')\n",
    "df.head(10)"
   ]
  },
  {
   "cell_type": "markdown",
   "metadata": {},
   "source": [
    "##### Extract 2-Digit SOC codes for each local authority"
   ]
  },
  {
   "cell_type": "code",
   "execution_count": null,
   "metadata": {},
   "outputs": [],
   "source": [
    "soc_columns =  df.columns[1:]\n",
    "\n",
    "lad_soc = df[soc_columns]\n",
    "lad_soc[:5]"
   ]
  },
  {
   "cell_type": "code",
   "execution_count": null,
   "metadata": {},
   "outputs": [],
   "source": [
    "def find_two_digit_integers(list_of_numbers):\n",
    "  \"\"\"\n",
    "  Finds all integers with two digits from a list of numbers.\n",
    "\n",
    "  Args:\n",
    "    list_of_numbers: A list of numbers.\n",
    "\n",
    "  Returns:\n",
    "    A list of all integers with two digits from the list of numbers.\n",
    "  \"\"\"\n",
    "\n",
    "  two_digit_integers = []\n",
    "  for number in list_of_numbers:\n",
    "    if number >= 10 and number <= 99:\n",
    "      two_digit_integers.append(number)\n",
    "\n",
    "  return two_digit_integers"
   ]
  },
  {
   "cell_type": "code",
   "execution_count": null,
   "metadata": {},
   "outputs": [],
   "source": [
    "data_list = []\n",
    "for col in df.columns[4:]:\n",
    "    x = find_two_digit_integers(df[col])\n",
    "    data_list.append(x)\n",
    "\n",
    "data_list[:3]"
   ]
  },
  {
   "cell_type": "code",
   "execution_count": null,
   "metadata": {},
   "outputs": [],
   "source": [
    "data = pd.DataFrame(data_list)\n",
    "data = data.T\n",
    "data.columns = df.columns[4:]\n",
    "data[['geography', 'geography code']] = df[['geography', 'geography code']]\n",
    "\n",
    "for col in data.columns[:-2]:\n",
    "    data[col] = data[col].fillna(0)\n",
    "\n",
    "data.head()"
   ]
  },
  {
   "cell_type": "markdown",
   "metadata": {},
   "source": [
    "##### Find Sum"
   ]
  },
  {
   "cell_type": "code",
   "execution_count": null,
   "metadata": {},
   "outputs": [],
   "source": [
    "sum_list = []\n",
    "for col in data.columns[:-2]:\n",
    "    sum_list.append(data[col].sum())\n",
    "    \n",
    "sum_df = pd.DataFrame(data.columns[:-2])\n",
    "sum_df.columns = ['occupation']\n",
    "sum_df['total_jobs'] = sum_list\n",
    "sum_df = sum_df.T\n",
    "sum_df"
   ]
  },
  {
   "cell_type": "code",
   "execution_count": null,
   "metadata": {},
   "outputs": [],
   "source": [
    "for i in range(2):\n",
    "    sum_list.append('total')\n",
    "len(sum_list)"
   ]
  },
  {
   "cell_type": "code",
   "execution_count": null,
   "metadata": {},
   "outputs": [],
   "source": [
    "data.loc[-1] = sum_list\n",
    "data.index = data.index + 1\n",
    "data.sort_index(inplace=True)\n",
    "data.head()"
   ]
  },
  {
   "cell_type": "code",
   "execution_count": null,
   "metadata": {},
   "outputs": [],
   "source": []
  }
 ],
 "metadata": {
  "kernelspec": {
   "display_name": "venv",
   "language": "python",
   "name": "python3"
  },
  "language_info": {
   "codemirror_mode": {
    "name": "ipython",
    "version": 3
   },
   "file_extension": ".py",
   "mimetype": "text/x-python",
   "name": "python",
   "nbconvert_exporter": "python",
   "pygments_lexer": "ipython3",
   "version": "3.10.6"
  },
  "orig_nbformat": 4
 },
 "nbformat": 4,
 "nbformat_minor": 2
}
